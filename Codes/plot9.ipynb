{
 "cells": [
  {
   "cell_type": "code",
   "execution_count": null,
   "metadata": {},
   "outputs": [],
   "source": [
    "import pandas as pd\n",
    "import matplotlib.pyplot as plt\n",
    "\n",
    "# Load the data from the CSV file\n",
    "file_path = 'mRNAs_in_nucleus.csv'\n",
    "data = pd.read_csv(file_path)\n",
    "\n",
    "# Set the figure size\n",
    "plt.figure(figsize=(12, 8))\n",
    "\n",
    "# Plot lines for each cell id\n",
    "for index, row in data.iterrows():\n",
    "    plt.plot(range(1, 22), row[1:], label=f'Cell {row[\"cell id\"]}')\n",
    "\n",
    "# Adding title and labels\n",
    "plt.title('mRNA Counts in Nucleus Over Time')\n",
    "plt.xlabel('Frame Number')\n",
    "plt.ylabel('mRNA Count')\n",
    "\n",
    "# Adding a legend\n",
    "plt.legend(title='Cell ID', bbox_to_anchor=(1.05, 1), loc='upper left')\n",
    "\n",
    "# Display the plot\n",
    "plt.show()"
   ]
  }
 ],
 "metadata": {
  "language_info": {
   "name": "python"
  },
  "orig_nbformat": 4
 },
 "nbformat": 4,
 "nbformat_minor": 2
}
