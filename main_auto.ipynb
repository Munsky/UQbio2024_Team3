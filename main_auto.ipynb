{
 "cells": [
  {
   "cell_type": "code",
   "execution_count": 1,
   "metadata": {},
   "outputs": [],
   "source": [
    "# Loading libraries for the course\n",
    "import random\n",
    "import matplotlib.pyplot as plt             # Library used for plotting\n",
    "from matplotlib.patches import Rectangle    # Module to plot a rectangle in the image\n",
    "import urllib.request                       # Library to download data\n",
    "import numpy as np                          # Library for array manipulation\n",
    "import seaborn as sn                        # Library for advanced plotting\n",
    "import pandas as pd                         # Library to manipulate data frames\n",
    "import tifffile                             # Library to store numpy arrays as TIFF\n",
    "import pathlib                              # Library to work with file paths\n",
    "from pathlib import Path                    # Library to work with file paths\n",
    "import skimage                              # Library for image manipulation. scikit-image\n",
    "from skimage.io import imread               # Module from skimage\n",
    "from matplotlib import animation            # Module to plot animations\n",
    "from skimage import filters, measure, segmentation, color\n",
    "from scipy.ndimage import gaussian_filter\n",
    "from skimage.filters import difference_of_gaussians\n",
    "import pandas as pd\n",
    "from cellpose import models, plot\n",
    "from scipy import ndimage as ndi\n",
    "import os\n",
    "from process_data import process_data"
   ]
  },
  {
   "cell_type": "code",
   "execution_count": 2,
   "metadata": {},
   "outputs": [
    {
     "ename": "NameError",
     "evalue": "name 'imread' is not defined",
     "output_type": "error",
     "traceback": [
      "\u001b[1;31m---------------------------------------------------------------------------\u001b[0m",
      "\u001b[1;31mNameError\u001b[0m                                 Traceback (most recent call last)",
      "Cell \u001b[1;32mIn[2], line 23\u001b[0m\n\u001b[0;32m     20\u001b[0m os\u001b[38;5;241m.\u001b[39mmakedirs(new_folder_path, exist_ok\u001b[38;5;241m=\u001b[39m\u001b[38;5;28;01mTrue\u001b[39;00m)\n\u001b[0;32m     22\u001b[0m \u001b[38;5;66;03m# 将tif文件所在路径作为figName输入到函数process_data中\u001b[39;00m\n\u001b[1;32m---> 23\u001b[0m \u001b[43mprocess_data\u001b[49m\u001b[43m(\u001b[49m\u001b[43mnew_folder_path\u001b[49m\u001b[43m,\u001b[49m\u001b[43m \u001b[49m\u001b[43mfile\u001b[49m\u001b[43m)\u001b[49m\n",
      "File \u001b[1;32md:\\00uqbio\\UQbio2024_Team3\\process_data.py:4\u001b[0m, in \u001b[0;36mprocess_data\u001b[1;34m(filepath, figName)\u001b[0m\n\u001b[0;32m      1\u001b[0m \u001b[38;5;28;01mdef\u001b[39;00m \u001b[38;5;21mprocess_data\u001b[39m(filepath,figName):\n\u001b[0;32m      2\u001b[0m \n\u001b[0;32m      3\u001b[0m     \u001b[38;5;66;03m# Loading data\u001b[39;00m\n\u001b[1;32m----> 4\u001b[0m     img \u001b[38;5;241m=\u001b[39m \u001b[43mimread\u001b[49m(\u001b[38;5;28mstr\u001b[39m(figName))\n\u001b[0;32m      6\u001b[0m     img_cyto_max \u001b[38;5;241m=\u001b[39m np\u001b[38;5;241m.\u001b[39mmax(img[:, :, :, \u001b[38;5;241m1\u001b[39m], axis \u001b[38;5;241m=\u001b[39m \u001b[38;5;241m0\u001b[39m)\n\u001b[0;32m      7\u001b[0m     model1 \u001b[38;5;241m=\u001b[39m models\u001b[38;5;241m.\u001b[39mCellpose(gpu \u001b[38;5;241m=\u001b[39m \u001b[38;5;28;01mFalse\u001b[39;00m, model_type \u001b[38;5;241m=\u001b[39m \u001b[38;5;124m'\u001b[39m\u001b[38;5;124mcyto\u001b[39m\u001b[38;5;124m'\u001b[39m)\n",
      "\u001b[1;31mNameError\u001b[0m: name 'imread' is not defined"
     ]
    }
   ],
   "source": [
    "import os\n",
    "import glob\n",
    "\n",
    "# specify the folder name\n",
    "folder_name = 'Drug7_1000nM'\n",
    "\n",
    "# build the search path\n",
    "search_path = os.path.join(folder_name, '*.tif')\n",
    "\n",
    "# use glob to find all matching files\n",
    "tif_files = glob.glob(search_path)\n",
    "\n",
    "# for each tif file\n",
    "for file in tif_files:\n",
    "    # get the base name of the file (without extension)\n",
    "    base_name = os.path.splitext(os.path.basename(file))[0]\n",
    "    \n",
    "    # create a new folder in the same directory with the name of the tif file\n",
    "    new_folder_path = os.path.join(folder_name, base_name)\n",
    "    os.makedirs(new_folder_path, exist_ok=True)\n",
    "\n",
    "    # pass the path of the tif file as figName to the function process_data\n",
    "    process_data(new_folder_path, file)\n"
   ]
  }
 ],
 "metadata": {
  "kernelspec": {
   "display_name": "base",
   "language": "python",
   "name": "python3"
  },
  "language_info": {
   "codemirror_mode": {
    "name": "ipython",
    "version": 3
   },
   "file_extension": ".py",
   "mimetype": "text/x-python",
   "name": "python",
   "nbconvert_exporter": "python",
   "pygments_lexer": "ipython3",
   "version": "3.9.12"
  }
 },
 "nbformat": 4,
 "nbformat_minor": 2
}
